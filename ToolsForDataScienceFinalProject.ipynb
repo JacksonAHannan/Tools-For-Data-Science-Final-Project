{
  "metadata": {
    "kernelspec": {
      "name": "python",
      "display_name": "Python (Pyodide)",
      "language": "python"
    },
    "language_info": {
      "codemirror_mode": {
        "name": "python",
        "version": 3
      },
      "file_extension": ".py",
      "mimetype": "text/x-python",
      "name": "python",
      "nbconvert_exporter": "python",
      "pygments_lexer": "ipython3",
      "version": "3.8"
    }
  },
  "nbformat_minor": 4,
  "nbformat": 4,
  "cells": [
    {
      "cell_type": "markdown",
      "source": "# Tools for Data Science Final Project Notebook",
      "metadata": {}
    },
    {
      "cell_type": "markdown",
      "source": "This cell will serve as an introduction to this assignment. This assignment is a Jupyter notebook intended to demonstrate basic proficiency with this platform.",
      "metadata": {}
    },
    {
      "cell_type": "markdown",
      "source": "## Objectives\n* To do whatever you tell me to do drill sergeant\n* Survive",
      "metadata": {}
    },
    {
      "cell_type": "markdown",
      "source": "Data Science Languages\n* Python\n* R\n* Java",
      "metadata": {}
    },
    {
      "cell_type": "markdown",
      "source": "Data Science Libraries\n* NumPy\n* TensorFlow\n* MatPlotLib",
      "metadata": {}
    },
    {
      "cell_type": "markdown",
      "source": "| Data Science Libraries | Data Science Languages |\n|-|-|\n| NumPy | Python |\n| TensorFlow | R |\n| MatPlotLib | Java |",
      "metadata": {}
    },
    {
      "cell_type": "markdown",
      "source": "* 2 + 2 = 4\n* 2 - 1 = 1\n* 1 x 1 = 1\n* 2 % 2 = 1",
      "metadata": {}
    },
    {
      "cell_type": "code",
      "source": "2 + 2, 2 - 1, 1 * 1, 2 / 2",
      "metadata": {
        "trusted": true
      },
      "outputs": [
        {
          "execution_count": 3,
          "output_type": "execute_result",
          "data": {
            "text/plain": "(4, 1, 1, 1.0)"
          },
          "metadata": {}
        }
      ],
      "execution_count": 3
    },
    {
      "cell_type": "code",
      "source": "minutes = 120\nhours = minutes / 60\nprint(minutes, \"minutes is\", hours, \"hours\")",
      "metadata": {
        "trusted": true
      },
      "outputs": [
        {
          "name": "stdout",
          "text": "120 minutes is 2.0 hours\n",
          "output_type": "stream"
        }
      ],
      "execution_count": 5
    },
    {
      "cell_type": "markdown",
      "source": "Author's name is Jackson Hannan",
      "metadata": {}
    }
  ]
}